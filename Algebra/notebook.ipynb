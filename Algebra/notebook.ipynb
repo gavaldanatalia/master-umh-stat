{
 "cells": [
  {
   "cell_type": "code",
   "execution_count": 8,
   "metadata": {},
   "outputs": [],
   "source": [
    "import numpy as np\n",
    "import matplotlib.pyplot as plt\n",
    "import scipy.stats as stats\n",
    "import scipy"
   ]
  },
  {
   "cell_type": "code",
   "execution_count": 4,
   "metadata": {},
   "outputs": [
    {
     "name": "stdout",
     "output_type": "stream",
     "text": [
      "2\n",
      "La matriz A tiene inversa por la izquierda:  False\n",
      "La matriz A tiene inversa por la derecha:  True\n"
     ]
    }
   ],
   "source": [
    "# Definir la matriz A\n",
    "A = np.array([[1, 1, 4],\n",
    "              [0, -1, 3]])\n",
    "\n",
    "# Calcular el rango de A\n",
    "rank_A = np.linalg.matrix_rank(A)\n",
    "print(rank_A)\n",
    "\n",
    "# Número de filas y columnas\n",
    "rows_A, cols_A = A.shape\n",
    "\n",
    "# Verificar si tiene inversa por la izquierda y por la derecha\n",
    "inverse_left_A = rank_A == cols_A  # Si el rango es igual al número de columnas\n",
    "inverse_right_A = rank_A == rows_A  # Si el rango es igual al número de filas\n",
    "\n",
    "# Mostrar resultados\n",
    "rank_A, inverse_left_A, inverse_right_A\n",
    " \n",
    "print(\"La matriz A tiene inversa por la izquierda: \", inverse_left_A)\n",
    "print(\"La matriz A tiene inversa por la derecha: \", inverse_right_A)\n",
    "\n"
   ]
  },
  {
   "cell_type": "code",
   "execution_count": 5,
   "metadata": {},
   "outputs": [
    {
     "data": {
      "text/plain": [
       "(array([[ 0.25,  0.5 ,  0.25],\n",
       "        [ 0.25, -0.5 ,  0.25]]),\n",
       " array([[0. , 0.5],\n",
       "        [1. , 0. ],\n",
       "        [0. , 0.5]]),\n",
       " array([[ 2.50000000e-01,  7.50000000e-01, -6.30743584e-16],\n",
       "        [ 7.50000000e-01,  2.50000000e-01,  1.00000000e+00],\n",
       "        [-2.50000000e-01,  2.50000000e-01,  9.09255562e-17],\n",
       "        [-2.50000000e-01,  2.50000000e-01, -1.00000000e+00]]))"
      ]
     },
     "execution_count": 5,
     "metadata": {},
     "output_type": "execute_result"
    }
   ],
   "source": [
    "# Pseudoinversa de A\n",
    "# Definir las matrices A, B y C\n",
    "A = np.array([[1, 1],\n",
    "              [1, -1],\n",
    "              [1, 1]])\n",
    "\n",
    "B = np.array([[0, 1, 0],\n",
    "              [1, 0, 1]])\n",
    "\n",
    "C = np.array([[0, 1, -2, 1],\n",
    "              [1, 0, 1, 0],\n",
    "              [0, 0, 1, -1]])\n",
    "\n",
    "# Calcular la pseudoinversa de Moore-Penrose de cada matriz\n",
    "A_pinv = np.linalg.pinv(A)\n",
    "B_pinv = np.linalg.pinv(B)\n",
    "C_pinv = np.linalg.pinv(C)\n",
    "\n",
    "# Mostrar los resultados\n",
    "A_pinv, B_pinv, C_pinv\n"
   ]
  },
  {
   "cell_type": "code",
   "execution_count": 12,
   "metadata": {},
   "outputs": [
    {
     "data": {
      "text/plain": [
       "(array([[0., 0., 1.],\n",
       "        [0., 1., 0.],\n",
       "        [1., 0., 0.]]),\n",
       " array([[1.        , 0.        , 0.        ],\n",
       "        [0.66666667, 1.        , 0.        ],\n",
       "        [0.33333333, 0.8       , 1.        ]]),\n",
       " array([[  3.        ,  22.        ,  33.        ],\n",
       "        [  0.        ,  -6.66666667, -11.        ],\n",
       "        [  0.        ,   0.        ,   0.8       ]]))"
      ]
     },
     "execution_count": 12,
     "metadata": {},
     "output_type": "execute_result"
    }
   ],
   "source": [
    "# Factorizacion LU de una matriz\n",
    "# Definir la matriz A\n",
    "A = np.array([[1, 2, 3],\n",
    "              [2, 8, 11],\n",
    "              [3, 22, 33]]) # Matriz de 3x3\n",
    "\n",
    "# Calcular la factorización LU\n",
    "P, L, U = scipy.linalg.lu(A)\n",
    "\n",
    "# Mostrar los resultados\n",
    "P, L, U"
   ]
  },
  {
   "cell_type": "code",
   "execution_count": 11,
   "metadata": {},
   "outputs": [
    {
     "data": {
      "text/plain": [
       "(array([[  3. ,   1.5,  -1. ],\n",
       "        [-16. ,  -3.5,   4. ],\n",
       "        [  4. ,   1. ,  -1. ]]),\n",
       " array([-31.,  96., -25.]))"
      ]
     },
     "execution_count": 11,
     "metadata": {},
     "output_type": "execute_result"
    }
   ],
   "source": [
    "# Definir la matriz A y el vector b\n",
    "A = np.array([[-1, 1, 5],\n",
    "              [0, 2, 8],\n",
    "              [-4, 6, 27]])\n",
    "\n",
    "b = np.array([2, -8, 25])\n",
    "\n",
    "# Calcular la pseudoinversa de A (Moore-Penrose)\n",
    "A_pinv = np.linalg.pinv(A)\n",
    "\n",
    "# Calcular la solución particular x = A^+ b\n",
    "x_solution = A_pinv @ b\n",
    "\n",
    "# Mostrar la pseudoinversa de A y la solución del sistema\n",
    "A_pinv, x_solution\n"
   ]
  }
 ],
 "metadata": {
  "kernelspec": {
   "display_name": ".venv",
   "language": "python",
   "name": "python3"
  },
  "language_info": {
   "codemirror_mode": {
    "name": "ipython",
    "version": 3
   },
   "file_extension": ".py",
   "mimetype": "text/x-python",
   "name": "python",
   "nbconvert_exporter": "python",
   "pygments_lexer": "ipython3",
   "version": "3.10.11"
  }
 },
 "nbformat": 4,
 "nbformat_minor": 2
}
