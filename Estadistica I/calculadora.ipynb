{
 "cells": [
  {
   "cell_type": "code",
   "execution_count": 5,
   "metadata": {},
   "outputs": [],
   "source": [
    "from scipy.stats import t, chi2, norm\n",
    "import numpy as np\n",
    "import statistics"
   ]
  },
  {
   "cell_type": "markdown",
   "metadata": {},
   "source": [
    "# Calculo de desviación tipica"
   ]
  },
  {
   "cell_type": "code",
   "execution_count": 3,
   "metadata": {},
   "outputs": [
    {
     "name": "stdout",
     "output_type": "stream",
     "text": [
      "Desviación típica muestral: 0.42094770423054884\n",
      "Media muestral: 5.441666666666666\n"
     ]
    }
   ],
   "source": [
    "# Datos de ejemplo\n",
    "datos = [5.2, 4.8, 6.1, 5.7, 5, 5.4, 6, 4.9, 5.5, 5.6, 5.8, 5.3]\n",
    "\n",
    "# Desviación típica muestral\n",
    "desviacion_muestral = statistics.stdev(datos)\n",
    "print(\"Desviación típica muestral:\", desviacion_muestral)\n",
    "\n",
    "# Desviación media\n",
    "media_muestral = statistics.mean(datos)\n",
    "print(\"Media muestral:\", media_muestral)"
   ]
  },
  {
   "cell_type": "markdown",
   "metadata": {},
   "source": [
    "# Calcular t student"
   ]
  },
  {
   "cell_type": "markdown",
   "metadata": {},
   "source": [
    "La distribución t de Student se utiliza principalmente para trabajar con la media muestral\n",
    "- El tamaño de la muestra (𝑛) es pequeño (𝑛≤30n≤30)."
   ]
  },
  {
   "cell_type": "code",
   "execution_count": 7,
   "metadata": {},
   "outputs": [
    {
     "name": "stdout",
     "output_type": "stream",
     "text": [
      "2.200985160082949\n",
      "-2.200985160082949\n",
      "-1.7958848187036696\n",
      "1.7958848187036691\n"
     ]
    }
   ],
   "source": [
    "# parametros\n",
    "n = 12\n",
    "\n",
    "# Nivel de confianza y grados de libertad\n",
    "alfa = 0.05\n",
    "gl = n - 1\n",
    "\n",
    "# Valor crítico t - intervalo bilateral - H1​:μ=μ \n",
    "t_critico = t.ppf(1-(alfa/2), gl)\n",
    "print(t_critico)\n",
    "\n",
    "t_critico = t.ppf((alfa/2), gl)\n",
    "print(t_critico)\n",
    "\n",
    "# Valor crítico t - contraste unilateral (cola izquierda) - H1​:μ<μ \n",
    "t_critico = t.ppf(alfa, gl)\n",
    "print(t_critico)\n",
    "\n",
    "# Valor crítico t - contraste unilateral (cola derecha) - H1​:μ>μ \n",
    "t_critico = t.ppf(1-alfa, gl)\n",
    "print(t_critico)"
   ]
  },
  {
   "cell_type": "code",
   "execution_count": 9,
   "metadata": {},
   "outputs": [
    {
     "data": {
      "text/plain": [
       "np.float64(-0.4948716593053903)"
      ]
     },
     "execution_count": 9,
     "metadata": {},
     "output_type": "execute_result"
    }
   ],
   "source": [
    "# Calculo del estadistico\n",
    "# Datos\n",
    "x_barra = 5.44  # Media muestral\n",
    "mu_0 = 5.5     # Media hipotética\n",
    "s = 0.42         # Desviación estándar muestral\n",
    "n = 12        # Tamaño de muestra\n",
    "\n",
    "# Error estándar\n",
    "error_estandar = s / np.sqrt(n)\n",
    "\n",
    "# Estadístico t\n",
    "t_estadistico = (x_barra - mu_0) / error_estandar\n",
    "t_estadistico"
   ]
  },
  {
   "cell_type": "markdown",
   "metadata": {
    "vscode": {
     "languageId": "plaintext"
    }
   },
   "source": [
    "# Calcular Chi Cuadrado"
   ]
  },
  {
   "cell_type": "markdown",
   "metadata": {},
   "source": [
    "La distribución chi-cuadrado se utiliza principalmente cuando trabajamos con:\n",
    "- Varianzas o desviaciones estándar.\n",
    "- estadístico "
   ]
  },
  {
   "cell_type": "code",
   "execution_count": 10,
   "metadata": {},
   "outputs": [
    {
     "name": "stdout",
     "output_type": "stream",
     "text": [
      "19.675137572682495\n",
      "4.574813079322225\n",
      "17.275008517500076\n",
      "5.5777847897998525\n"
     ]
    }
   ],
   "source": [
    "# Parámetros\n",
    "n = 12\n",
    "alpha = 0.10  # Nivel de significación\n",
    "gl = n - 1      # Grados de libertad\n",
    "\n",
    "# Bilateral (cola derecha)\t H1:σ=σ \n",
    "critico = chi2.ppf(1 - alpha/2, gl)\n",
    "print(critico)\n",
    "\n",
    "# Bilateral (cola izquierda)\tH1:σ=σ \n",
    "critico = chi2.ppf(alpha/2, gl)\n",
    "print(critico)\n",
    "\n",
    "# Unilateral (derecha)\tH1:σ>σ \n",
    "critico = chi2.ppf(1 - alpha, gl)\n",
    "print(critico)\n",
    "\n",
    "# Unilateral (izquierda) H1:σ<σ \n",
    "critico = chi2.ppf(alpha, gl)\n",
    "print(critico)\n"
   ]
  },
  {
   "cell_type": "code",
   "execution_count": null,
   "metadata": {},
   "outputs": [],
   "source": [
    "# Datos\n",
    "n = 10           # Tamaño de la muestra\n",
    "s = 4            # Desviación estándar muestral\n",
    "sigma_0 = 4      # Desviación estándar hipotética bajo H0\n",
    "sigma_0_2 = sigma_0 ** 2  # Varianza hipotética\n",
    "s_2 = s ** 2     # Varianza muestral\n",
    "\n",
    "# Estadístico chi-cuadrado\n",
    "chi2_estadistico = (n - 1) * s_2 / sigma_0_2\n",
    "chi2_estadistico"
   ]
  },
  {
   "cell_type": "markdown",
   "metadata": {},
   "source": [
    "# Proporcion"
   ]
  },
  {
   "cell_type": "code",
   "execution_count": 46,
   "metadata": {},
   "outputs": [
    {
     "name": "stdout",
     "output_type": "stream",
     "text": [
      "1.644853626951472\n",
      "-1.6448536269514729\n",
      "1.959963984540054\n",
      "-1.9599639845400545\n"
     ]
    }
   ],
   "source": [
    "# Datos\n",
    "n = 75\n",
    "x = 20\n",
    "alfa = 0.05\n",
    "\n",
    "# Proporción muestral\n",
    "p_muestral = x / n\n",
    "\n",
    "# Unilateral (derecha)\tH1:p>p \n",
    "z_critico = norm.ppf(1-alfa)\n",
    "print(z_critico)\n",
    "\n",
    "# Unilateral (izquierda)\tH1:p<p \n",
    "z_critico = norm.ppf(alfa)\n",
    "print(z_critico)\n",
    "\n",
    "# Bilateral derecha\tH1:p=p \n",
    "z_critico = norm.ppf(1-alfa/2)\n",
    "print(z_critico)\n",
    "\n",
    "# Bilateral izquierda\tH1:p=p \n",
    "z_critico = norm.ppf(alfa/2)\n",
    "print(z_critico)"
   ]
  },
  {
   "cell_type": "code",
   "execution_count": 47,
   "metadata": {},
   "outputs": [
    {
     "name": "stdout",
     "output_type": "stream",
     "text": [
      "(np.float64(0.3667478746146545), np.float64(0.1665854587186788))\n"
     ]
    }
   ],
   "source": [
    "# Intervalo de confianza\n",
    "margen_error = z_critico * np.sqrt((p_muestral * (1 - p_muestral)) / n)\n",
    "\n",
    "intervalo = (p_muestral - margen_error, p_muestral + margen_error)\n",
    "print(intervalo)"
   ]
  },
  {
   "cell_type": "code",
   "execution_count": null,
   "metadata": {},
   "outputs": [],
   "source": [
    "#Estadistico\n",
    "# Datos\n",
    "n = 100          # Tamaño de la muestra\n",
    "x = 45           # Número de éxitos\n",
    "p_0 = 0.4        # Proporción hipotética bajo H0\n",
    "\n",
    "# Proporción muestral\n",
    "p_muestral = x / n\n",
    "\n",
    "# Estadístico Z para la proporción\n",
    "z_estadistico = (p_muestral - p_0) / np.sqrt((p_0 * (1 - p_0)) / n)\n",
    "z_estadistico\n"
   ]
  }
 ],
 "metadata": {
  "kernelspec": {
   "display_name": "nuevo_entorno_umh",
   "language": "python",
   "name": "python3"
  },
  "language_info": {
   "codemirror_mode": {
    "name": "ipython",
    "version": 3
   },
   "file_extension": ".py",
   "mimetype": "text/x-python",
   "name": "python",
   "nbconvert_exporter": "python",
   "pygments_lexer": "ipython3",
   "version": "3.9.20"
  }
 },
 "nbformat": 4,
 "nbformat_minor": 2
}
