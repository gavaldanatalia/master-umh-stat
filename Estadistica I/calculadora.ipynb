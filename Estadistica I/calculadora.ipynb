{
 "cells": [
  {
   "cell_type": "code",
   "execution_count": 13,
   "metadata": {},
   "outputs": [],
   "source": [
    "from scipy.stats import t, chi2, norm\n",
    "import numpy as np"
   ]
  },
  {
   "cell_type": "markdown",
   "metadata": {},
   "source": [
    "# Calculo de desviación tipica"
   ]
  },
  {
   "cell_type": "code",
   "execution_count": 23,
   "metadata": {},
   "outputs": [
    {
     "name": "stdout",
     "output_type": "stream",
     "text": [
      "Desviación típica muestral: 11.92236793354647\n"
     ]
    }
   ],
   "source": [
    "import statistics\n",
    "\n",
    "# Datos de ejemplo\n",
    "datos = [116, 130, 127, 98, 110, 103, 120]\n",
    "\n",
    "# Desviación típica muestral\n",
    "desviacion_muestral = statistics.stdev(datos)\n",
    "print(\"Desviación típica muestral:\", desviacion_muestral)"
   ]
  },
  {
   "cell_type": "markdown",
   "metadata": {},
   "source": [
    "# Calcular t student"
   ]
  },
  {
   "cell_type": "code",
   "execution_count": null,
   "metadata": {},
   "outputs": [
    {
     "name": "stdout",
     "output_type": "stream",
     "text": [
      "1.7613101357748562\n",
      "-1.7613101357748566\n",
      "-1.3450303744546486\n",
      "1.345030374454649\n"
     ]
    }
   ],
   "source": [
    "# parametros\n",
    "n = 15\n",
    "\n",
    "# Nivel de confianza y grados de libertad\n",
    "alfa = 0.10\n",
    "gl = n - 1\n",
    "\n",
    "# Valor crítico t - intervalo bilateral - H1​:μ=μ \n",
    "t_critico = t.ppf(1-(alfa/2), gl)\n",
    "print(t_critico)\n",
    "\n",
    "t_critico = t.ppf((alfa/2), gl)\n",
    "print(t_critico)\n",
    "\n",
    "# Valor crítico t - contraste unilateral (cola izquierda) - H1​:μ<μ \n",
    "t_critico = t.ppf(alfa, gl)\n",
    "print(t_critico)\n",
    "\n",
    "# Valor crítico t - contraste unilateral (cola derecha) - H1​:μ>μ \n",
    "t_critico = t.ppf(1-alfa, gl)\n",
    "print(t_critico)"
   ]
  },
  {
   "cell_type": "markdown",
   "metadata": {
    "vscode": {
     "languageId": "plaintext"
    }
   },
   "source": [
    "# Calcular Chi Cuadrado"
   ]
  },
  {
   "cell_type": "code",
   "execution_count": 38,
   "metadata": {},
   "outputs": [
    {
     "name": "stdout",
     "output_type": "stream",
     "text": [
      "26.118948045037367\n",
      "5.628726103039732\n",
      "23.68479130484058\n",
      "6.570631383789344\n"
     ]
    }
   ],
   "source": [
    "# Parámetros\n",
    "n = 15\n",
    "alpha = 0.05  # Nivel de significación\n",
    "gl = n - 1      # Grados de libertad\n",
    "\n",
    "# Bilateral (cola derecha)\t H1:σ=σ \n",
    "critico = chi2.ppf(1 - alpha/2, gl)\n",
    "print(critico)\n",
    "\n",
    "# Bilateral (cola izquierda)\tH1:σ=σ \n",
    "critico = chi2.ppf(alpha/2, gl)\n",
    "print(critico)\n",
    "\n",
    "# Unilateral (derecha)\tH1:σ>σ \n",
    "critico = chi2.ppf(1 - alpha, gl)\n",
    "print(critico)\n",
    "\n",
    "# Unilateral (izquierda) H1:σ<σ \n",
    "critico = chi2.ppf(alpha, gl)\n",
    "print(critico)\n"
   ]
  },
  {
   "cell_type": "markdown",
   "metadata": {},
   "source": [
    "# Proporcion"
   ]
  },
  {
   "cell_type": "code",
   "execution_count": 46,
   "metadata": {},
   "outputs": [
    {
     "name": "stdout",
     "output_type": "stream",
     "text": [
      "1.644853626951472\n",
      "-1.6448536269514729\n",
      "1.959963984540054\n",
      "-1.9599639845400545\n"
     ]
    }
   ],
   "source": [
    "# Datos\n",
    "n = 75\n",
    "x = 20\n",
    "alfa = 0.05\n",
    "\n",
    "# Proporción muestral\n",
    "p_muestral = x / n\n",
    "\n",
    "# Unilateral (derecha)\tH1:p>p \n",
    "z_critico = norm.ppf(1-alfa)\n",
    "print(z_critico)\n",
    "\n",
    "# Unilateral (izquierda)\tH1:p<p \n",
    "z_critico = norm.ppf(alfa)\n",
    "print(z_critico)\n",
    "\n",
    "# Bilateral derecha\tH1:p=p \n",
    "z_critico = norm.ppf(1-alfa/2)\n",
    "print(z_critico)\n",
    "\n",
    "# Bilateral izquierda\tH1:p=p \n",
    "z_critico = norm.ppf(alfa/2)\n",
    "print(z_critico)"
   ]
  },
  {
   "cell_type": "code",
   "execution_count": 47,
   "metadata": {},
   "outputs": [
    {
     "name": "stdout",
     "output_type": "stream",
     "text": [
      "(np.float64(0.3667478746146545), np.float64(0.1665854587186788))\n"
     ]
    }
   ],
   "source": [
    "# Intervalo de confianza\n",
    "margen_error = z_critico * np.sqrt((p_muestral * (1 - p_muestral)) / n)\n",
    "\n",
    "intervalo = (p_muestral - margen_error, p_muestral + margen_error)\n",
    "print(intervalo)"
   ]
  }
 ],
 "metadata": {
  "kernelspec": {
   "display_name": "nuevo_entorno_umh",
   "language": "python",
   "name": "python3"
  },
  "language_info": {
   "codemirror_mode": {
    "name": "ipython",
    "version": 3
   },
   "file_extension": ".py",
   "mimetype": "text/x-python",
   "name": "python",
   "nbconvert_exporter": "python",
   "pygments_lexer": "ipython3",
   "version": "3.9.20"
  }
 },
 "nbformat": 4,
 "nbformat_minor": 2
}
