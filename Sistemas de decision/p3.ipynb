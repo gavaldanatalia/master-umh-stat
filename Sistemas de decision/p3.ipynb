{
 "cells": [
  {
   "cell_type": "markdown",
   "metadata": {},
   "source": [
    "# Ejercicio 1"
   ]
  },
  {
   "cell_type": "code",
   "execution_count": null,
   "metadata": {},
   "outputs": [
    {
     "data": {
      "text/plain": [
       "(0.345, 0.6366666666666666, 0.6916666666666665, (0.6916666666666665, 'A3'))"
      ]
     },
     "execution_count": 1,
     "metadata": {},
     "output_type": "execute_result"
    }
   ],
   "source": [
    "# apartado 1\n",
    "import numpy as np\n",
    "\n",
    "# Definimos la función de utilidad\n",
    "def utilidad(x1, x2, x3):\n",
    "    return (1/6) * (4*x1 + 3*x2 + (1 - x3))\n",
    "\n",
    "# Datos de las alternativas y sus probabilidades\n",
    "A1 = [((0.1, 0.2, 0.3), 0.3), ((0.2, 0.5, 0.1), 0.3), ((0.0, 0.2, 0.1), 0.4)]\n",
    "A2 = [((0.2, 0.5, 0.0), 0.4), ((1.0, 0.0, 0.0), 0.1), ((0.5, 0.5, 0.5), 0.5)]\n",
    "A3 = [((0.4, 0.4, 0.0), 0.2), ((0.0, 0.0, 0.0), 0.1), ((0.6, 0.6, 0.5), 0.7)]\n",
    "\n",
    "# Calculamos la utilidad esperada para cada alternativa\n",
    "def utilidad_esperada(alternativa):\n",
    "    return sum(utilidad(x1, x2, x3) * p for (x1, x2, x3), p in alternativa)\n",
    "\n",
    "U_A1 = utilidad_esperada(A1)\n",
    "U_A2 = utilidad_esperada(A2)\n",
    "U_A3 = utilidad_esperada(A3)\n",
    "\n",
    "# Determinar la mejor alternativa\n",
    "mejor_alternativa = max((U_A1, \"A1\"), (U_A2, \"A2\"), (U_A3, \"A3\"))\n",
    "\n",
    "# Mostrar los resultados\n",
    "U_A1, U_A2, U_A3, mejor_alternativa"
   ]
  },
  {
   "cell_type": "code",
   "execution_count": null,
   "metadata": {},
   "outputs": [
    {
     "data": {
      "text/plain": [
       "(0.5333333333333332,\n",
       " 0.6666666666666666,\n",
       " 0.7833333333333332,\n",
       " (0.7833333333333332, 'A3'))"
      ]
     },
     "execution_count": 2,
     "metadata": {},
     "output_type": "execute_result"
    }
   ],
   "source": [
    "# apartado 2\n",
    "# Consecuencias deterministas de cada alternativa\n",
    "det_A1 = (0.2, 0.5, 0.1)\n",
    "det_A2 = (0.5, 0.5, 0.5)\n",
    "det_A3 = (0.6, 0.6, 0.5)\n",
    "\n",
    "# Calculamos la utilidad para cada alternativa en el caso determinista\n",
    "U_det_A1 = utilidad(*det_A1)\n",
    "U_det_A2 = utilidad(*det_A2)\n",
    "U_det_A3 = utilidad(*det_A3)\n",
    "\n",
    "# Determinar la mejor alternativa en el caso determinista\n",
    "mejor_alternativa_det = max((U_det_A1, \"A1\"), (U_det_A2, \"A2\"), (U_det_A3, \"A3\"))\n",
    "\n",
    "# Mostrar los resultados\n",
    "U_det_A1, U_det_A2, U_det_A3, mejor_alternativa_det\n"
   ]
  },
  {
   "cell_type": "markdown",
   "metadata": {},
   "source": [
    "# Ejercicio 2"
   ]
  },
  {
   "cell_type": "code",
   "execution_count": 3,
   "metadata": {},
   "outputs": [
    {
     "data": {
      "text/plain": [
       "(13.7, 11.2, (13.7, 'A1'))"
      ]
     },
     "execution_count": 3,
     "metadata": {},
     "output_type": "execute_result"
    }
   ],
   "source": [
    "# apartado 1\n",
    "# Definimos la función de utilidad para el ejercicio 2\n",
    "def utilidad_2(x1, x2):\n",
    "    return x1 * x2\n",
    "\n",
    "# Datos de las alternativas y sus probabilidades para el ejercicio 2\n",
    "A1_2 = [((1, 2), 0.1), ((5, 3), 0.9)]\n",
    "A2_2 = [((2, 5), 0.4), ((3, 4), 0.6)]\n",
    "\n",
    "# Calculamos la utilidad esperada para cada alternativa\n",
    "def utilidad_esperada_2(alternativa):\n",
    "    return sum(utilidad_2(x1, x2) * p for (x1, x2), p in alternativa)\n",
    "\n",
    "U_A1_2 = utilidad_esperada_2(A1_2)\n",
    "U_A2_2 = utilidad_esperada_2(A2_2)\n",
    "\n",
    "# Determinar la mejor alternativa\n",
    "mejor_alternativa_2 = max((U_A1_2, \"A1\"), (U_A2_2, \"A2\"))\n",
    "\n",
    "# Mostrar los resultados\n",
    "U_A1_2, U_A2_2, mejor_alternativa_2\n"
   ]
  },
  {
   "cell_type": "code",
   "execution_count": 6,
   "metadata": {},
   "outputs": [
    {
     "data": {
      "text/plain": [
       "(15 - 13*a, 12 - 2*b)"
      ]
     },
     "execution_count": 6,
     "metadata": {},
     "output_type": "execute_result"
    }
   ],
   "source": [
    "# apartado 2\n",
    "# Definimos las expresiones de utilidad esperada en función de los parámetros a y b\n",
    "\n",
    "from sympy import symbols, Eq, solve\n",
    "\n",
    "# Definimos los parámetros a y b\n",
    "a, b = symbols('a b')\n",
    "\n",
    "# Expresiones de utilidad esperada para cada alternativa en función de a y b\n",
    "U_A1_sym = a * utilidad_2(1, 2) + (1 - a) * utilidad_2(5, 3)\n",
    "U_A2_sym = b * utilidad_2(2, 5) + (1 - b) * utilidad_2(3, 4)\n",
    "\n",
    "# Mostramos las expresiones simbólicas\n",
    "U_A1_sym, U_A2_sym\n"
   ]
  },
  {
   "cell_type": "markdown",
   "metadata": {},
   "source": [
    "# Ejercicio 3"
   ]
  },
  {
   "cell_type": "code",
   "execution_count": 7,
   "metadata": {},
   "outputs": [
    {
     "data": {
      "text/plain": [
       "(0.43825, 0.42525, (0.43825, 'A1'))"
      ]
     },
     "execution_count": 7,
     "metadata": {},
     "output_type": "execute_result"
    }
   ],
   "source": [
    "# Pesos en la jerarquía de objetivos\n",
    "pesos_OG1 = {\"OI1\": 0.35, \"OI2\": 0.20, \"OI3\": 0.45}\n",
    "pesos_OI1 = {\"O1\": 0.60, \"O2\": 0.40}\n",
    "pesos_OI2 = {\"O3\": 1.00}\n",
    "pesos_OI3 = {\"O4\": 0.25, \"O5\": 0.40, \"O6\": 0.35}\n",
    "\n",
    "# Valores de los atributos para cada alternativa\n",
    "A1_vals = {\"X1\": 0.4, \"X2\": 0.7, \"X3\": 0.1, \"X4\": 0.5, \"X5\": 0.3, \"X6\": 0.8}\n",
    "A2_vals = {\"X1\": 0.2, \"X2\": 0.5, \"X3\": 0.7, \"X4\": 0.4, \"X5\": 0.1, \"X6\": 0.7}\n",
    "\n",
    "# Cálculo de los valores intermedios\n",
    "def calcular_oi1(vals):\n",
    "    return pesos_OI1[\"O1\"] * vals[\"X1\"] + pesos_OI1[\"O2\"] * vals[\"X2\"]\n",
    "\n",
    "def calcular_oi2(vals):\n",
    "    return pesos_OI2[\"O3\"] * vals[\"X3\"]\n",
    "\n",
    "def calcular_oi3(vals):\n",
    "    return pesos_OI3[\"O4\"] * vals[\"X4\"] + pesos_OI3[\"O5\"] * vals[\"X5\"] + pesos_OI3[\"O6\"] * vals[\"X6\"]\n",
    "\n",
    "# Cálculo del valor global para OG1\n",
    "def calcular_og1(vals):\n",
    "    return (pesos_OG1[\"OI1\"] * calcular_oi1(vals) +\n",
    "            pesos_OG1[\"OI2\"] * calcular_oi2(vals) +\n",
    "            pesos_OG1[\"OI3\"] * calcular_oi3(vals))\n",
    "\n",
    "# Evaluar cada alternativa\n",
    "U_A1_3 = calcular_og1(A1_vals)\n",
    "U_A2_3 = calcular_og1(A2_vals)\n",
    "\n",
    "# Determinar la mejor alternativa\n",
    "mejor_alternativa_3 = max((U_A1_3, \"A1\"), (U_A2_3, \"A2\"))\n",
    "\n",
    "# Mostrar resultados\n",
    "U_A1_3, U_A2_3, mejor_alternativa_3\n"
   ]
  }
 ],
 "metadata": {
  "kernelspec": {
   "display_name": ".venv",
   "language": "python",
   "name": "python3"
  },
  "language_info": {
   "codemirror_mode": {
    "name": "ipython",
    "version": 3
   },
   "file_extension": ".py",
   "mimetype": "text/x-python",
   "name": "python",
   "nbconvert_exporter": "python",
   "pygments_lexer": "ipython3",
   "version": "3.10.11"
  }
 },
 "nbformat": 4,
 "nbformat_minor": 2
}
