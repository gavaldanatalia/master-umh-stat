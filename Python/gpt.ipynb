{
 "cells": [
  {
   "cell_type": "code",
   "execution_count": 24,
   "metadata": {},
   "outputs": [
    {
     "name": "stdout",
     "output_type": "stream",
     "text": [
      "[]\n",
      "[]\n"
     ]
    }
   ],
   "source": [
    "import requests\n",
    "from bs4 import BeautifulSoup\n",
    "\n",
    "headers = {'User-Agent': 'WikipediaEduBot/1.0 (User:YourID; mailto:yourmail@example.com)'}\n",
    "url = 'https://es.wikipedia.org/wiki/Categor%C3%ADa:Alto_Pirineo_y_Ar%C3%A1n'\n",
    "url_idioma = 'https://ca.wikipedia.org/wiki/Categoria:Alt_Pirineu_i_Aran'\n",
    "response = requests.get(url, headers=headers)\n",
    "soup = BeautifulSoup(response.text, 'html.parser')\n",
    "\n",
    "# Extracción de artículos y subcategorías\n",
    "articulos = [a.text for a in soup.select('CSS_selector_para_articulos')]\n",
    "subcategorias = [a.text for a in soup.select('CSS_selector_para_subcategorias')]\n",
    "\n",
    "print(articulos)\n",
    "print(subcategorias)\n"
   ]
  },
  {
   "cell_type": "code",
   "execution_count": 14,
   "metadata": {},
   "outputs": [],
   "source": [
    "# Definición de la función obtener_articulos\n",
    "def obtener_articulos(url):\n",
    "    headers = {'User-Agent': 'WikipediaEduBot/1.0 (User:YourID; mailto:yourmail@example.com)'}\n",
    "    response = requests.get(url, headers=headers)\n",
    "    soup = BeautifulSoup(response.text, 'html.parser')\n",
    "    \n",
    "    # Selecciona los enlaces a artículos en la página de la categoría\n",
    "    articulos = [a.text for a in soup.select('CSS_selector_para_articulos')]\n",
    "    return articulos"
   ]
  },
  {
   "cell_type": "code",
   "execution_count": 15,
   "metadata": {},
   "outputs": [],
   "source": [
    "import networkx as nx\n",
    "\n",
    "G = nx.DiGraph()\n",
    "def construir_jerarquia(url, G):\n",
    "    # Obtener subcategorías y artículos como en el paso 2 y añadir al grafo\n",
    "    G.add_node('Nombre de la categoría')\n",
    "    for subcategoria in subcategorias:\n",
    "        G.add_edge('Categoría padre', subcategoria)\n",
    "        # Llamada recursiva para explorar subcategoría\n",
    "        construir_jerarquia(subcategoria, G)\n",
    "\n",
    "construir_jerarquia(url=url, G=G)"
   ]
  },
  {
   "cell_type": "code",
   "execution_count": 16,
   "metadata": {},
   "outputs": [],
   "source": [
    "def contar_articulos(url):\n",
    "    response = requests.get(url, headers=headers)\n",
    "    soup = BeautifulSoup(response.text, 'html.parser')\n",
    "    articulos = soup.select('CSS_selector_para_articulos')\n",
    "    return len(articulos)\n"
   ]
  },
  {
   "cell_type": "code",
   "execution_count": 23,
   "metadata": {},
   "outputs": [
    {
     "name": "stdout",
     "output_type": "stream",
     "text": [
      "set()\n",
      "set()\n",
      "set()\n",
      "set()\n",
      "set()\n"
     ]
    }
   ],
   "source": [
    "articulos_es = set(obtener_articulos(url))\n",
    "articulos_en = set(obtener_articulos(url_idioma))\n",
    "\n",
    "print(articulos_en)\n",
    "print(articulos_es)\n",
    "\n",
    "coincidentes = articulos_es & articulos_en\n",
    "unicos_es = articulos_es - articulos_en\n",
    "unicos_en = articulos_en - articulos_es\n",
    "\n",
    "print(coincidentes)\n",
    "print(unicos_es)\n",
    "print(unicos_en)\n",
    "\n"
   ]
  }
 ],
 "metadata": {
  "kernelspec": {
   "display_name": ".venv",
   "language": "python",
   "name": "python3"
  },
  "language_info": {
   "codemirror_mode": {
    "name": "ipython",
    "version": 3
   },
   "file_extension": ".py",
   "mimetype": "text/x-python",
   "name": "python",
   "nbconvert_exporter": "python",
   "pygments_lexer": "ipython3",
   "version": "3.10.11"
  }
 },
 "nbformat": 4,
 "nbformat_minor": 2
}
